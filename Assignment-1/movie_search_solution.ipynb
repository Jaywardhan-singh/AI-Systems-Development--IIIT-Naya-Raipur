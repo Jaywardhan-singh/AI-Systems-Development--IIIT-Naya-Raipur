{
 "cells": [
  {
   "cell_type": "markdown",
   "id": "15f2ea51",
   "metadata": {},
   "source": [
    "# movie_search_solution.ipynb"
   ]
  },
  {
   "cell_type": "markdown",
   "id": "ab8fa870",
   "metadata": {},
   "source": [
    "# Section 1: Install & Import Libraries "
   ]
  },
  {
   "cell_type": "code",
   "execution_count": 3,
   "id": "989c258d",
   "metadata": {},
   "outputs": [
    {
     "name": "stderr",
     "output_type": "stream",
     "text": [
      "c:\\Users\\jaywa\\AI Systems\\AI-Systems-Development--IIIT-Naya-Raipur\\Assignment-1\\venv\\lib\\site-packages\\tqdm\\auto.py:21: TqdmWarning: IProgress not found. Please update jupyter and ipywidgets. See https://ipywidgets.readthedocs.io/en/stable/user_install.html\n",
      "  from .autonotebook import tqdm as notebook_tqdm\n"
     ]
    }
   ],
   "source": [
    "import pandas as pd\n",
    "from sentence_transformers import SentenceTransformer\n",
    "from sklearn.metrics.pairwise import cosine_similarity\n"
   ]
  },
  {
   "cell_type": "markdown",
   "id": "7a8a03d1",
   "metadata": {},
   "source": [
    "# Section 2: Load Dataset "
   ]
  },
  {
   "cell_type": "code",
   "execution_count": 4,
   "id": "ee76b27e",
   "metadata": {},
   "outputs": [
    {
     "name": "stdout",
     "output_type": "stream",
     "text": [
      "              title                                               plot\n",
      "0         Spy Movie  A spy navigates intrigue in Paris to stop a te...\n",
      "1  Romance in Paris  A couple falls in love in Paris under romantic...\n",
      "2      Action Flick  A high-octane chase through New York with expl...\n"
     ]
    }
   ],
   "source": [
    "df = pd.read_csv(\"movies.csv\")\n",
    "print(df.head())"
   ]
  },
  {
   "cell_type": "markdown",
   "id": "1801218a",
   "metadata": {},
   "source": [
    "# Section 3: Load Embedding Model "
   ]
  },
  {
   "cell_type": "code",
   "execution_count": 5,
   "id": "aee85802",
   "metadata": {},
   "outputs": [
    {
     "name": "stderr",
     "output_type": "stream",
     "text": [
      "c:\\Users\\jaywa\\AI Systems\\AI-Systems-Development--IIIT-Naya-Raipur\\Assignment-1\\venv\\lib\\site-packages\\huggingface_hub\\file_download.py:143: UserWarning: `huggingface_hub` cache-system uses symlinks by default to efficiently store duplicated files but your machine does not support them in C:\\Users\\jaywa\\.cache\\huggingface\\hub\\models--sentence-transformers--all-MiniLM-L6-v2. Caching files will still work but in a degraded version that might require more space on your disk. This warning can be disabled by setting the `HF_HUB_DISABLE_SYMLINKS_WARNING` environment variable. For more details, see https://huggingface.co/docs/huggingface_hub/how-to-cache#limitations.\n",
      "To support symlinks on Windows, you either need to activate Developer Mode or to run Python as an administrator. In order to activate developer mode, see this article: https://docs.microsoft.com/en-us/windows/apps/get-started/enable-your-device-for-development\n",
      "  warnings.warn(message)\n",
      "Xet Storage is enabled for this repo, but the 'hf_xet' package is not installed. Falling back to regular HTTP download. For better performance, install the package with: `pip install huggingface_hub[hf_xet]` or `pip install hf_xet`\n"
     ]
    }
   ],
   "source": [
    "model = SentenceTransformer(\"all-MiniLM-L6-v2\")\n"
   ]
  },
  {
   "cell_type": "markdown",
   "id": "625a5081",
   "metadata": {},
   "source": [
    "# Section 4: Encode Plots "
   ]
  },
  {
   "cell_type": "code",
   "execution_count": 6,
   "id": "461fd33a",
   "metadata": {},
   "outputs": [],
   "source": [
    "# Convert each plot into embeddings\n",
    "df[\"embeddings\"] = df[\"plot\"].apply(lambda x: model.encode(x))\n"
   ]
  },
  {
   "cell_type": "markdown",
   "id": "c8ac562e",
   "metadata": {},
   "source": [
    "# Section 5: Define Search Function"
   ]
  },
  {
   "cell_type": "code",
   "execution_count": 7,
   "id": "2714ce3b",
   "metadata": {},
   "outputs": [],
   "source": [
    "\n",
    "def search_movies(query, top_n=5):\n",
    "    \"\"\"\n",
    "    Given a search query, return the top_n most relevant movies\n",
    "    based on cosine similarity of embeddings.\n",
    "    \"\"\"\n",
    "    query_embedding = model.encode(query)\n",
    "    similarities = cosine_similarity([query_embedding], list(df[\"embeddings\"]))[0]\n",
    "    df[\"similarity\"] = similarities\n",
    "    results = df.sort_values(\"similarity\", ascending=False).head(top_n)\n",
    "    return results[[\"title\", \"plot\", \"similarity\"]]\n"
   ]
  },
  {
   "cell_type": "markdown",
   "id": "6d2ea473",
   "metadata": {},
   "source": [
    "# Section 6: Test Example Query "
   ]
  },
  {
   "cell_type": "code",
   "execution_count": 8,
   "id": "7a2f9ad1",
   "metadata": {},
   "outputs": [
    {
     "name": "stdout",
     "output_type": "stream",
     "text": [
      "              title                                               plot  \\\n",
      "0         Spy Movie  A spy navigates intrigue in Paris to stop a te...   \n",
      "1  Romance in Paris  A couple falls in love in Paris under romantic...   \n",
      "2      Action Flick  A high-octane chase through New York with expl...   \n",
      "\n",
      "   similarity  \n",
      "0    0.769684  \n",
      "1    0.388029  \n",
      "2    0.256777  \n"
     ]
    }
   ],
   "source": [
    "print(search_movies(\"spy thriller in Paris\", top_n=5))"
   ]
  }
 ],
 "metadata": {
  "kernelspec": {
   "display_name": "venv",
   "language": "python",
   "name": "python3"
  },
  "language_info": {
   "codemirror_mode": {
    "name": "ipython",
    "version": 3
   },
   "file_extension": ".py",
   "mimetype": "text/x-python",
   "name": "python",
   "nbconvert_exporter": "python",
   "pygments_lexer": "ipython3",
   "version": "3.10.7"
  }
 },
 "nbformat": 4,
 "nbformat_minor": 5
}
